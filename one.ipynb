{
 "cells": [
  {
   "cell_type": "raw",
   "id": "f24c1b1e-65ce-4686-ad84-471c13d26fc4",
   "metadata": {},
   "source": [
    "print(\"hallo pratik\")"
   ]
  },
  {
   "cell_type": "raw",
   "id": "3c84caf6-dda8-4c4f-bace-9b53c8941f9b",
   "metadata": {},
   "source": [
    "print(7)"
   ]
  },
  {
   "cell_type": "code",
   "execution_count": 6,
   "id": "e354932d-6395-4cff-b4f5-133f1bb82be7",
   "metadata": {},
   "outputs": [
    {
     "name": "stdout",
     "output_type": "stream",
     "text": [
      "hallo pratik\n"
     ]
    }
   ],
   "source": [
    "print(\"hallo pratik\")"
   ]
  },
  {
   "cell_type": "markdown",
   "id": "15e2f00c-38a5-45ea-b523-bac46680b00c",
   "metadata": {},
   "source": [
    "## pratik"
   ]
  },
  {
   "cell_type": "markdown",
   "id": "cbc5c256-ae90-4675-a8b3-ac77bd314f40",
   "metadata": {},
   "source": [
    "### CALL me DADY"
   ]
  },
  {
   "cell_type": "code",
   "execution_count": 9,
   "id": "02817244-58c4-426a-9f90-164d77649374",
   "metadata": {},
   "outputs": [
    {
     "data": {
      "text/plain": [
       "'C:\\\\Users\\\\Dell\\\\python0'"
      ]
     },
     "execution_count": 9,
     "metadata": {},
     "output_type": "execute_result"
    }
   ],
   "source": [
    "pwd"
   ]
  },
  {
   "cell_type": "code",
   "execution_count": 1,
   "id": "935f1b5d-202e-4b36-8277-aa2f8f8e587a",
   "metadata": {},
   "outputs": [
    {
     "data": {
      "text/plain": [
       "6"
      ]
     },
     "execution_count": 1,
     "metadata": {},
     "output_type": "execute_result"
    }
   ],
   "source": [
    "A = 1\n",
    "b = 5\n",
    "A + b"
   ]
  },
  {
   "cell_type": "code",
   "execution_count": 3,
   "id": "318d9560-2189-4ad0-9deb-971a81a79ad2",
   "metadata": {},
   "outputs": [
    {
     "data": {
      "text/plain": [
       "6"
      ]
     },
     "execution_count": 3,
     "metadata": {},
     "output_type": "execute_result"
    }
   ],
   "source": [
    "A = 1 #this is varible declare\n",
    "b = 5\n",
    "A + b #doing "
   ]
  },
  {
   "cell_type": "code",
   "execution_count": 9,
   "id": "89381e45-311d-4d2a-b6c6-00089e5832f8",
   "metadata": {},
   "outputs": [
    {
     "data": {
      "text/plain": [
       "' ok good afternon pratik'"
      ]
     },
     "execution_count": 9,
     "metadata": {},
     "output_type": "execute_result"
    }
   ],
   "source": [
    "\"\"\" ok good afternon pratik\"\"\""
   ]
  },
  {
   "cell_type": "code",
   "execution_count": 11,
   "id": "ef80f916-e492-4f3c-9097-8e2502c5b148",
   "metadata": {},
   "outputs": [
    {
     "data": {
      "text/plain": [
       "' ok good afternon pratik'"
      ]
     },
     "execution_count": 11,
     "metadata": {},
     "output_type": "execute_result"
    }
   ],
   "source": [
    "\" ok good afternon pratik\""
   ]
  },
  {
   "cell_type": "code",
   "execution_count": 13,
   "id": "46537074-c794-4b00-ab59-c430d387329c",
   "metadata": {},
   "outputs": [
    {
     "data": {
      "text/plain": [
       "91"
      ]
     },
     "execution_count": 13,
     "metadata": {},
     "output_type": "execute_result"
    }
   ],
   "source": [
    "A = 91\n",
    "A"
   ]
  },
  {
   "cell_type": "code",
   "execution_count": 15,
   "id": "65b91080-e592-4154-a003-6c6e134a77f3",
   "metadata": {},
   "outputs": [
    {
     "data": {
      "text/plain": [
       "140713010908776"
      ]
     },
     "execution_count": 15,
     "metadata": {},
     "output_type": "execute_result"
    }
   ],
   "source": [
    "id(A)"
   ]
  },
  {
   "cell_type": "code",
   "execution_count": 17,
   "id": "b94cdb69-966d-4406-9368-b074b66a9c67",
   "metadata": {},
   "outputs": [
    {
     "data": {
      "text/plain": [
       "140713010906184"
      ]
     },
     "execution_count": 17,
     "metadata": {},
     "output_type": "execute_result"
    }
   ],
   "source": [
    "B = 10\n",
    "id(B)"
   ]
  },
  {
   "cell_type": "code",
   "execution_count": 19,
   "id": "e4eb0370-b794-47bf-829a-b16c5cdb70bd",
   "metadata": {},
   "outputs": [
    {
     "data": {
      "text/plain": [
       "140713010906184"
      ]
     },
     "execution_count": 19,
     "metadata": {},
     "output_type": "execute_result"
    }
   ],
   "source": [
    "C = 10\n",
    "id(C)"
   ]
  },
  {
   "cell_type": "code",
   "execution_count": 23,
   "id": "73edb981-80e1-4a55-a818-914d69708b4b",
   "metadata": {},
   "outputs": [
    {
     "data": {
      "text/plain": [
       "90"
      ]
     },
     "execution_count": 23,
     "metadata": {},
     "output_type": "execute_result"
    }
   ],
   "source": [
    "D = 90\n",
    "D"
   ]
  },
  {
   "cell_type": "code",
   "execution_count": 27,
   "id": "88659e22-1aac-4483-9ac6-ee4242aea1e7",
   "metadata": {},
   "outputs": [
    {
     "data": {
      "text/plain": [
       "25"
      ]
     },
     "execution_count": 27,
     "metadata": {},
     "output_type": "execute_result"
    }
   ],
   "source": [
    "Z= 15\n",
    "Z+C"
   ]
  },
  {
   "cell_type": "code",
   "execution_count": 37,
   "id": "66e42980-3800-45df-a4a8-ca86af07febf",
   "metadata": {},
   "outputs": [
    {
     "name": "stdout",
     "output_type": "stream",
     "text": [
      "the summtion is - 40\n"
     ]
    }
   ],
   "source": [
    "Z= 15\n",
    "C = 25\n",
    "U = Z+C\n",
    "U\n",
    "print(\"the summtion is -\",Z+C)"
   ]
  },
  {
   "cell_type": "code",
   "execution_count": 39,
   "id": "a2531f93-f313-42a9-a061-b52b23482e98",
   "metadata": {},
   "outputs": [
    {
     "ename": "SyntaxError",
     "evalue": "invalid decimal literal (1605971624.py, line 1)",
     "output_type": "error",
     "traceback": [
      "\u001b[1;36m  Cell \u001b[1;32mIn[39], line 1\u001b[1;36m\u001b[0m\n\u001b[1;33m    1a=147\u001b[0m\n\u001b[1;37m    ^\u001b[0m\n\u001b[1;31mSyntaxError\u001b[0m\u001b[1;31m:\u001b[0m invalid decimal literal\n"
     ]
    }
   ],
   "source": [
    "1a=147\n",
    "1a\n"
   ]
  },
  {
   "cell_type": "code",
   "execution_count": 41,
   "id": "9c174192-212e-4223-b5c7-f74f43145b92",
   "metadata": {},
   "outputs": [
    {
     "data": {
      "text/plain": [
       "147"
      ]
     },
     "execution_count": 41,
     "metadata": {},
     "output_type": "execute_result"
    }
   ],
   "source": [
    "_1a=147\n",
    "_1a\n"
   ]
  },
  {
   "cell_type": "code",
   "execution_count": 43,
   "id": "477b6933-cfb2-44c5-bb44-f78a33858195",
   "metadata": {},
   "outputs": [
    {
     "data": {
      "text/plain": [
       "int"
      ]
     },
     "execution_count": 43,
     "metadata": {},
     "output_type": "execute_result"
    }
   ],
   "source": [
    "w=type(_1a)\n",
    "w"
   ]
  },
  {
   "cell_type": "code",
   "execution_count": 45,
   "id": "cfcec2f4-5a34-42e6-8f6f-8dc1698b8578",
   "metadata": {},
   "outputs": [
    {
     "name": "stdout",
     "output_type": "stream",
     "text": [
      "<class 'int'>\n"
     ]
    }
   ],
   "source": [
    "print(w)"
   ]
  },
  {
   "cell_type": "code",
   "execution_count": 59,
   "id": "447d24b3-d7b5-4d72-b79d-8def7e5f9559",
   "metadata": {},
   "outputs": [
    {
     "name": "stdout",
     "output_type": "stream",
     "text": [
      "['False', 'None', 'True', 'and', 'as', 'assert', 'async', 'await', 'break', 'class', 'continue', 'def', 'del', 'elif', 'else', 'except', 'finally', 'for', 'from', 'global', 'if', 'import', 'in', 'is', 'lambda', 'nonlocal', 'not', 'or', 'pass', 'raise', 'return', 'try', 'while', 'with', 'yield']\n"
     ]
    }
   ],
   "source": [
    "import keyword\n",
    "keyword = keyword.kwlist\n",
    "print(keyword)"
   ]
  },
  {
   "cell_type": "code",
   "execution_count": 61,
   "id": "017840fc-2ee0-48be-895f-43226596eae0",
   "metadata": {},
   "outputs": [
    {
     "data": {
      "text/plain": [
       "35"
      ]
     },
     "execution_count": 61,
     "metadata": {},
     "output_type": "execute_result"
    }
   ],
   "source": [
    "len(keyword)"
   ]
  },
  {
   "cell_type": "code",
   "execution_count": 63,
   "id": "55d2b2a0-472b-43e1-ac5f-78f7e8c428a8",
   "metadata": {},
   "outputs": [
    {
     "name": "stdin",
     "output_type": "stream",
     "text": [
      "enter your name. pratik\n"
     ]
    },
    {
     "name": "stdout",
     "output_type": "stream",
     "text": [
      " my orgnation name is -  pratik\n"
     ]
    }
   ],
   "source": [
    "b = input(\"enter your name.\")\n",
    "\n",
    "print(\" my orgnation name is - \",b) "
   ]
  },
  {
   "cell_type": "code",
   "execution_count": 69,
   "id": "fe49da3c-023d-4135-a713-6f3cdc1e2a92",
   "metadata": {},
   "outputs": [
    {
     "name": "stdout",
     "output_type": "stream",
     "text": [
      "pratik is orgnation name\n"
     ]
    }
   ],
   "source": [
    "print(b,\"is orgnation name\")"
   ]
  },
  {
   "cell_type": "code",
   "execution_count": 78,
   "id": "7331900d-57aa-4be5-8adf-a1a4e9528bfd",
   "metadata": {},
   "outputs": [
    {
     "ename": "NameError",
     "evalue": "name 'Print' is not defined",
     "output_type": "error",
     "traceback": [
      "\u001b[1;31m---------------------------------------------------------------------------\u001b[0m",
      "\u001b[1;31mNameError\u001b[0m                                 Traceback (most recent call last)",
      "Cell \u001b[1;32mIn[78], line 4\u001b[0m\n\u001b[0;32m      2\u001b[0m b\u001b[38;5;241m=\u001b[39m\u001b[38;5;241m20\u001b[39m\n\u001b[0;32m      3\u001b[0m c\u001b[38;5;241m=\u001b[39m\u001b[38;5;241m30\u001b[39m\n\u001b[1;32m----> 4\u001b[0m Print(\u001b[38;5;124m\"\u001b[39m\u001b[38;5;124ma,b,c\u001b[39m\u001b[38;5;124m\"\u001b[39m)\n",
      "\u001b[1;31mNameError\u001b[0m: name 'Print' is not defined"
     ]
    }
   ],
   "source": [
    "a=10\n",
    "b=20\n",
    "c=30\n",
    "Print(\"a,b,c\")"
   ]
  },
  {
   "cell_type": "code",
   "execution_count": 76,
   "id": "fb2dc449-3898-40d3-8069-41c9b984db47",
   "metadata": {},
   "outputs": [
    {
     "data": {
      "text/plain": [
       "91"
      ]
     },
     "execution_count": 76,
     "metadata": {},
     "output_type": "execute_result"
    }
   ],
   "source": [
    "A"
   ]
  },
  {
   "cell_type": "code",
   "execution_count": 84,
   "id": "b2b083f2-0734-437c-8e29-18eb6ae356a6",
   "metadata": {},
   "outputs": [
    {
     "data": {
      "text/plain": [
       "'C:\\\\Users\\\\Dell\\\\python0'"
      ]
     },
     "execution_count": 84,
     "metadata": {},
     "output_type": "execute_result"
    }
   ],
   "source": [
    "pwd"
   ]
  },
  {
   "cell_type": "code",
   "execution_count": null,
   "id": "d9092a7d-b93d-4bc6-941a-1a0e0161e5c9",
   "metadata": {},
   "outputs": [],
   "source": []
  }
 ],
 "metadata": {
  "kernelspec": {
   "display_name": "Python 3 (ipykernel)",
   "language": "python",
   "name": "python3"
  },
  "language_info": {
   "codemirror_mode": {
    "name": "ipython",
    "version": 3
   },
   "file_extension": ".py",
   "mimetype": "text/x-python",
   "name": "python",
   "nbconvert_exporter": "python",
   "pygments_lexer": "ipython3",
   "version": "3.11.7"
  }
 },
 "nbformat": 4,
 "nbformat_minor": 5
}
